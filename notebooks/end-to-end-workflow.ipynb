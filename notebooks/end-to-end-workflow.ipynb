{
 "cells": [
  {
   "cell_type": "code",
   "metadata": {
    "ExecuteTime": {
     "end_time": "2024-06-14T15:41:46.301140Z",
     "start_time": "2024-06-14T15:41:44.998300Z"
    }
   },
   "source": [
    "from perturbench.dataset import PerturbationDataset\n",
    "from perturbench.scenarios import RandomSplitScenario\n",
    "from perturbench.models import RandomModel\n",
    "from perturbench.metrics import AverageDifferenceMetric\n",
    "from perturbench.benchmark import PerturbationBenchmark\n",
    "\n",
    "import numpy as np\n",
    "import scipy as sp\n",
    "import pandas as pd\n",
    "import anndata as ad\n",
    "import torch"
   ],
   "outputs": [],
   "execution_count": 1
  },
  {
   "cell_type": "markdown",
   "metadata": {
    "ExecuteTime": {
     "end_time": "2024-06-14T09:44:52.587907Z",
     "start_time": "2024-06-14T09:44:52.529586Z"
    }
   },
   "source": "# End-to-end pipeline for benchmarking perturbation predictions using perturbench"
  },
  {
   "metadata": {},
   "cell_type": "markdown",
   "source": [
    "## 1. Prepare dataset\n",
    "\n",
    "We will prepare an example dataset with 3 genetic perturbations, and a control condition. 6,000 cells total, with sex as a covariate. We could also use a preprepared dataset."
   ]
  },
  {
   "metadata": {
    "ExecuteTime": {
     "end_time": "2024-06-14T15:41:49.856882Z",
     "start_time": "2024-06-14T15:41:47.351838Z"
    }
   },
   "cell_type": "code",
   "source": [
    "n_cells = 4_000\n",
    "n_genes = 20_000\n",
    "\n",
    "raw_counts = np.random.randint(low = 0, high = 100, size = (n_cells, n_genes))\n",
    "raw_counts_sparse = sp.sparse.csr_matrix(raw_counts)\n",
    "perturbations = (\n",
    "    [\"GENETIC:MYC\"] * 1000\n",
    "    + [\"GENETIC:AKT\"] * 1000\n",
    "    + [\"GENETIC:PD1\"] * 1000\n",
    "    + [None] * 1000\n",
    ")\n",
    "sex = np.random.choice([\"male\", \"female\"], size = n_cells)\n",
    "cell_type = np.random.choice([\"cell_type1\", \"cell_type2\"], size = n_cells)\n",
    "\n",
    "anndata = ad.AnnData(raw_counts_sparse, obs = pd.DataFrame({\"perturbation\": perturbations, \"sex\": sex, \"cell_type\": cell_type}))"
   ],
   "outputs": [
    {
     "name": "stderr",
     "output_type": "stream",
     "text": [
      "/Users/ab70/Library/Caches/pypoetry/virtualenvs/perturbench-mht8PlFG-py3.9/lib/python3.9/site-packages/anndata/_core/aligned_df.py:67: ImplicitModificationWarning: Transforming to str index.\n",
      "  warnings.warn(\"Transforming to str index.\", ImplicitModificationWarning)\n"
     ]
    }
   ],
   "execution_count": 2
  },
  {
   "cell_type": "code",
   "metadata": {
    "ExecuteTime": {
     "end_time": "2024-06-14T15:41:52.017822Z",
     "start_time": "2024-06-14T15:41:52.013139Z"
    }
   },
   "source": "perturbation_dataset = PerturbationDataset(anndata, \"perturbation\", [\"sex\", \"cell_type\"], name=\"Example perturbation dataset\", description=\"Example dataset with 3 genetic perturbations, and a control condition. 6,000 cells total, with sex as a covariate.\")",
   "outputs": [],
   "execution_count": 3
  },
  {
   "metadata": {
    "ExecuteTime": {
     "end_time": "2024-06-14T15:42:01.106289Z",
     "start_time": "2024-06-14T15:42:01.091581Z"
    }
   },
   "cell_type": "code",
   "source": "perturbation_dataset.anndata()",
   "outputs": [
    {
     "data": {
      "text/plain": [
       "AnnData object with n_obs × n_vars = 4000 × 20000\n",
       "    obs: 'sex', 'cell_type', 'perturbation'"
      ]
     },
     "execution_count": 4,
     "metadata": {},
     "output_type": "execute_result"
    }
   ],
   "execution_count": 4
  },
  {
   "cell_type": "markdown",
   "metadata": {
    "ExecuteTime": {
     "end_time": "2024-06-13T16:31:52.976370Z",
     "start_time": "2024-06-13T16:31:52.960348Z"
    }
   },
   "source": [
    "## 2. Declare a scenario\n",
    "\n",
    "How should we define train-test splits? First step will be to create a scenario."
   ]
  },
  {
   "metadata": {
    "ExecuteTime": {
     "end_time": "2024-06-14T15:43:06.247653Z",
     "start_time": "2024-06-14T15:43:06.243099Z"
    }
   },
   "cell_type": "code",
   "source": "my_favourite_scenario = RandomSplitScenario()",
   "outputs": [],
   "execution_count": 5
  },
  {
   "metadata": {},
   "cell_type": "markdown",
   "source": [
    "## 3. Run model training\n",
    "\n",
    "Now let's pick the model we would like to benchmark! We'll use a simple random example (shouldn't perform well!)"
   ]
  },
  {
   "metadata": {
    "ExecuteTime": {
     "end_time": "2024-06-14T15:46:28.613904Z",
     "start_time": "2024-06-14T15:46:28.608686Z"
    }
   },
   "cell_type": "code",
   "source": [
    "device = torch.device(\"cuda\" if torch.cuda.is_available() else \"cpu\")\n",
    "\n",
    "random_model = RandomModel(device=device)"
   ],
   "outputs": [],
   "execution_count": 6
  },
  {
   "metadata": {},
   "cell_type": "markdown",
   "source": [
    "## 4. Choose our metrics\n",
    "\n",
    "Now we need to select which metrics we would like to use! Let's do a simple average difference between ground truth and prediction."
   ]
  },
  {
   "metadata": {
    "ExecuteTime": {
     "end_time": "2024-06-14T15:46:32.191369Z",
     "start_time": "2024-06-14T15:46:32.188075Z"
    }
   },
   "cell_type": "code",
   "source": "my_favourite_metric = AverageDifferenceMetric()",
   "outputs": [],
   "execution_count": 7
  },
  {
   "metadata": {},
   "cell_type": "markdown",
   "source": [
    "## 5. Finally, register this all with a benchmark object\n",
    "\n",
    "Now, let's register this all and check what's going to be run!"
   ]
  },
  {
   "metadata": {
    "ExecuteTime": {
     "end_time": "2024-06-14T15:53:27.789850Z",
     "start_time": "2024-06-14T15:53:27.604220Z"
    }
   },
   "cell_type": "code",
   "source": [
    "benchmark = PerturbationBenchmark()\n",
    "\n",
    "# register our datasets\n",
    "\n",
    "benchmark.register_dataset(perturbation_dataset)\n",
    "\n",
    "# register scenarios\n",
    "\n",
    "benchmark.register_scenario(my_favourite_scenario)\n",
    "\n",
    "# register models\n",
    "\n",
    "for model in [random_model]:\n",
    "    benchmark.register_model(model)\n",
    "    \n",
    "# register metrics\n",
    "\n",
    "for metric in [my_favourite_metric]:\n",
    "    benchmark.register_metric(metric)\n"
   ],
   "outputs": [
    {
     "data": {
      "text/plain": [
       "Registering Example perturbation dataset\n"
      ],
      "text/html": [
       "<pre style=\"white-space:pre;overflow-x:auto;line-height:normal;font-family:Menlo,'DejaVu Sans Mono',consolas,'Courier New',monospace\">Registering Example perturbation dataset\n",
       "</pre>\n"
      ]
     },
     "metadata": {},
     "output_type": "display_data"
    }
   ],
   "execution_count": 8
  },
  {
   "metadata": {},
   "cell_type": "markdown",
   "source": "Check what's been registered:"
  },
  {
   "metadata": {
    "ExecuteTime": {
     "end_time": "2024-06-14T15:53:31.299566Z",
     "start_time": "2024-06-14T15:53:31.282621Z"
    }
   },
   "cell_type": "code",
   "source": "benchmark.registered()",
   "outputs": [
    {
     "data": {
      "text/plain": [
       "Registered \u001B[1;36m1\u001B[0m datasets:\n"
      ],
      "text/html": [
       "<pre style=\"white-space:pre;overflow-x:auto;line-height:normal;font-family:Menlo,'DejaVu Sans Mono',consolas,'Courier New',monospace\">Registered <span style=\"color: #008080; text-decoration-color: #008080; font-weight: bold\">1</span> datasets:\n",
       "</pre>\n"
      ]
     },
     "metadata": {},
     "output_type": "display_data"
    },
    {
     "data": {
      "text/plain": [
       "\u001B[1;31m - Example perturbation dataset: \u001B[0m\n"
      ],
      "text/html": [
       "<pre style=\"white-space:pre;overflow-x:auto;line-height:normal;font-family:Menlo,'DejaVu Sans Mono',consolas,'Courier New',monospace\"><span style=\"color: #800000; text-decoration-color: #800000; font-weight: bold\"> - Example perturbation dataset: </span>\n",
       "</pre>\n"
      ]
     },
     "metadata": {},
     "output_type": "display_data"
    },
    {
     "data": {
      "text/plain": [
       "    |- \u001B[1mdescription:\u001B[0m Example dataset with \u001B[1;36m3\u001B[0m genetic perturbations, and a control condition. \u001B[1;36m6\u001B[0m,\u001B[1;36m000\u001B[0m cells total, with \n",
       "sex as a covariate.\n"
      ],
      "text/html": [
       "<pre style=\"white-space:pre;overflow-x:auto;line-height:normal;font-family:Menlo,'DejaVu Sans Mono',consolas,'Courier New',monospace\">    |- <span style=\"font-weight: bold\">description:</span> Example dataset with <span style=\"color: #008080; text-decoration-color: #008080; font-weight: bold\">3</span> genetic perturbations, and a control condition. <span style=\"color: #008080; text-decoration-color: #008080; font-weight: bold\">6</span>,<span style=\"color: #008080; text-decoration-color: #008080; font-weight: bold\">000</span> cells total, with \n",
       "sex as a covariate.\n",
       "</pre>\n"
      ]
     },
     "metadata": {},
     "output_type": "display_data"
    },
    {
     "data": {
      "text/plain": [
       "    |- \u001B[1m perturbations:\u001B[0m \u001B[1m[\u001B[0m\u001B[32m'GENETIC:MYC'\u001B[0m, \u001B[32m'GENETIC:AKT'\u001B[0m, \u001B[32m'GENETIC:PD1'\u001B[0m, \u001B[3;35mNone\u001B[0m\u001B[1m]\u001B[0m\n"
      ],
      "text/html": [
       "<pre style=\"white-space:pre;overflow-x:auto;line-height:normal;font-family:Menlo,'DejaVu Sans Mono',consolas,'Courier New',monospace\">    |- <span style=\"font-weight: bold\"> perturbations:</span> <span style=\"font-weight: bold\">[</span><span style=\"color: #008000; text-decoration-color: #008000\">'GENETIC:MYC'</span>, <span style=\"color: #008000; text-decoration-color: #008000\">'GENETIC:AKT'</span>, <span style=\"color: #008000; text-decoration-color: #008000\">'GENETIC:PD1'</span>, <span style=\"color: #800080; text-decoration-color: #800080; font-style: italic\">None</span><span style=\"font-weight: bold\">]</span>\n",
       "</pre>\n"
      ]
     },
     "metadata": {},
     "output_type": "display_data"
    },
    {
     "data": {
      "text/plain": [
       "Registered \u001B[1;36m1\u001B[0m scenarios:\n"
      ],
      "text/html": [
       "<pre style=\"white-space:pre;overflow-x:auto;line-height:normal;font-family:Menlo,'DejaVu Sans Mono',consolas,'Courier New',monospace\">Registered <span style=\"color: #008080; text-decoration-color: #008080; font-weight: bold\">1</span> scenarios:\n",
       "</pre>\n"
      ]
     },
     "metadata": {},
     "output_type": "display_data"
    },
    {
     "data": {
      "text/plain": [
       "\u001B[1;31m - Random splitting: \u001B[0m\n"
      ],
      "text/html": [
       "<pre style=\"white-space:pre;overflow-x:auto;line-height:normal;font-family:Menlo,'DejaVu Sans Mono',consolas,'Courier New',monospace\"><span style=\"color: #800000; text-decoration-color: #800000; font-weight: bold\"> - Random splitting: </span>\n",
       "</pre>\n"
      ]
     },
     "metadata": {},
     "output_type": "display_data"
    },
    {
     "data": {
      "text/plain": [
       "    |- \u001B[1mdescription:\u001B[0m Randomely splits the input data\n"
      ],
      "text/html": [
       "<pre style=\"white-space:pre;overflow-x:auto;line-height:normal;font-family:Menlo,'DejaVu Sans Mono',consolas,'Courier New',monospace\">    |- <span style=\"font-weight: bold\">description:</span> Randomely splits the input data\n",
       "</pre>\n"
      ]
     },
     "metadata": {},
     "output_type": "display_data"
    },
    {
     "data": {
      "text/plain": [
       "Registered \u001B[1;36m1\u001B[0m models:\n"
      ],
      "text/html": [
       "<pre style=\"white-space:pre;overflow-x:auto;line-height:normal;font-family:Menlo,'DejaVu Sans Mono',consolas,'Courier New',monospace\">Registered <span style=\"color: #008080; text-decoration-color: #008080; font-weight: bold\">1</span> models:\n",
       "</pre>\n"
      ]
     },
     "metadata": {},
     "output_type": "display_data"
    },
    {
     "data": {
      "text/plain": [
       "\u001B[1;31m - Random model: \u001B[0m\n"
      ],
      "text/html": [
       "<pre style=\"white-space:pre;overflow-x:auto;line-height:normal;font-family:Menlo,'DejaVu Sans Mono',consolas,'Courier New',monospace\"><span style=\"color: #800000; text-decoration-color: #800000; font-weight: bold\"> - Random model: </span>\n",
       "</pre>\n"
      ]
     },
     "metadata": {},
     "output_type": "display_data"
    },
    {
     "data": {
      "text/plain": [
       "    |- \u001B[1mdescription:\u001B[0m Generates a random prediction that is normally distributed\n"
      ],
      "text/html": [
       "<pre style=\"white-space:pre;overflow-x:auto;line-height:normal;font-family:Menlo,'DejaVu Sans Mono',consolas,'Courier New',monospace\">    |- <span style=\"font-weight: bold\">description:</span> Generates a random prediction that is normally distributed\n",
       "</pre>\n"
      ]
     },
     "metadata": {},
     "output_type": "display_data"
    },
    {
     "data": {
      "text/plain": [
       "Registered \u001B[1;36m1\u001B[0m metrics:\n"
      ],
      "text/html": [
       "<pre style=\"white-space:pre;overflow-x:auto;line-height:normal;font-family:Menlo,'DejaVu Sans Mono',consolas,'Courier New',monospace\">Registered <span style=\"color: #008080; text-decoration-color: #008080; font-weight: bold\">1</span> metrics:\n",
       "</pre>\n"
      ]
     },
     "metadata": {},
     "output_type": "display_data"
    },
    {
     "data": {
      "text/plain": [
       "\u001B[1;31m - Average of difference metric: \u001B[0m\n"
      ],
      "text/html": [
       "<pre style=\"white-space:pre;overflow-x:auto;line-height:normal;font-family:Menlo,'DejaVu Sans Mono',consolas,'Courier New',monospace\"><span style=\"color: #800000; text-decoration-color: #800000; font-weight: bold\"> - Average of difference metric: </span>\n",
       "</pre>\n"
      ]
     },
     "metadata": {},
     "output_type": "display_data"
    },
    {
     "data": {
      "text/plain": [
       "    |- \u001B[1mdescription:\u001B[0m Average of difference metric\n"
      ],
      "text/html": [
       "<pre style=\"white-space:pre;overflow-x:auto;line-height:normal;font-family:Menlo,'DejaVu Sans Mono',consolas,'Courier New',monospace\">    |- <span style=\"font-weight: bold\">description:</span> Average of difference metric\n",
       "</pre>\n"
      ]
     },
     "metadata": {},
     "output_type": "display_data"
    }
   ],
   "execution_count": 9
  },
  {
   "metadata": {},
   "cell_type": "markdown",
   "source": "OK, we're happy with that plan! Now let's run the benchmarking :)"
  },
  {
   "metadata": {},
   "cell_type": "code",
   "outputs": [],
   "execution_count": null,
   "source": "benchmark.run()"
  },
  {
   "metadata": {},
   "cell_type": "markdown",
   "source": "And finally let's view the results as a table!"
  },
  {
   "metadata": {},
   "cell_type": "code",
   "outputs": [],
   "execution_count": null,
   "source": "benchmark.summary()"
  },
  {
   "cell_type": "markdown",
   "metadata": {},
   "source": []
  }
 ],
 "metadata": {
  "language_info": {
   "name": "python"
  },
  "kernelspec": {
   "name": "python3",
   "language": "python",
   "display_name": "Python 3 (ipykernel)"
  }
 },
 "nbformat": 4,
 "nbformat_minor": 2
}
