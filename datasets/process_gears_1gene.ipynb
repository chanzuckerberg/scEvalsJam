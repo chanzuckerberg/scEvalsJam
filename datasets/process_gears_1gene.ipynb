{
 "cells": [
  {
   "cell_type": "code",
   "execution_count": 11,
   "id": "47fde3ed-b51b-4c70-a76a-e7463a63ad46",
   "metadata": {},
   "outputs": [],
   "source": [
    "import pertpy as pt\n",
    "import scanpy as sc\n",
    "import numpy as np\n",
    "import pandas as pd\n",
    "from warnings import simplefilter\n",
    "simplefilter(action=\"ignore\", category=pd.errors.PerformanceWarning)\n",
    "\n",
    "out_dir = 'data'"
   ]
  },
  {
   "cell_type": "markdown",
   "id": "2480976c-2e4b-480c-ad21-3802458d14b2",
   "metadata": {},
   "source": [
    "#### Download and process data"
   ]
  },
  {
   "cell_type": "code",
   "execution_count": 2,
   "id": "33184982-fea5-44c3-8960-28bafe6550a2",
   "metadata": {},
   "outputs": [],
   "source": [
    "adata = pt.dt.norman_2019()\n",
    "adata.X = adata.layers['counts']\n",
    "sc.pp.log1p(adata)\n",
    "sc.pp.highly_variable_genes(adata, n_top_genes=2000)"
   ]
  },
  {
   "cell_type": "markdown",
   "id": "88fe9db4-172e-46e2-acf9-9a564d133082",
   "metadata": {},
   "source": [
    "#### Select 1-gene perturbatuons"
   ]
  },
  {
   "cell_type": "code",
   "execution_count": 3,
   "id": "8633e28b-be33-42a6-bd6b-9a5c9a6cfa44",
   "metadata": {},
   "outputs": [],
   "source": [
    "single_gene_mask = np.array(['+' in p for p in adata.obs['perturbation_name'].values])\n",
    "adata_1gene = adata[~single_gene_mask]"
   ]
  },
  {
   "cell_type": "markdown",
   "id": "7ef4822b-372b-4022-a326-2d725e1813ea",
   "metadata": {},
   "source": [
    "#### Compute DE genes"
   ]
  },
  {
   "cell_type": "code",
   "execution_count": 4,
   "id": "8bc71d7b-c07d-4938-ae8a-21d70855a9f2",
   "metadata": {},
   "outputs": [
    {
     "name": "stderr",
     "output_type": "stream",
     "text": [
      "/home/vinas/miniconda3/envs/scpert/lib/python3.12/site-packages/scanpy/tools/_rank_genes_groups.py:640: ImplicitModificationWarning: Trying to modify attribute `._uns` of view, initializing view as actual.\n",
      "  adata.uns[key_added] = {}\n"
     ]
    }
   ],
   "source": [
    "method = 't-test'\n",
    "sc.tl.rank_genes_groups(\n",
    "    adata_1gene,\n",
    "    groupby='perturbation_name',\n",
    "    reference='control',\n",
    "    method=method,\n",
    "    key_added=method,\n",
    "    rankby_abs=True,\n",
    "    n_genes=None,\n",
    "    use_raw=False\n",
    ");"
   ]
  },
  {
   "cell_type": "code",
   "execution_count": null,
   "id": "c79f7ffe-5701-4ad1-9f0e-61f8968e7acd",
   "metadata": {},
   "outputs": [],
   "source": [
    "# Get DE analysis results as follows\n",
    "df = sc.get.rank_genes_groups_df(adata_1gene, group=None, key=method)"
   ]
  },
  {
   "cell_type": "markdown",
   "id": "57cc8233-9417-433f-b5c0-c20f74ebd040",
   "metadata": {},
   "source": [
    "#### Store data"
   ]
  },
  {
   "cell_type": "code",
   "execution_count": 12,
   "id": "890a4963-12ac-40eb-b93e-274ac246ac18",
   "metadata": {},
   "outputs": [],
   "source": [
    "adata_1gene.write(f'{out_dir}/1gene-norman.h5ad')"
   ]
  }
 ],
 "metadata": {
  "kernelspec": {
   "display_name": "scpert",
   "language": "python",
   "name": "scpert"
  },
  "language_info": {
   "codemirror_mode": {
    "name": "ipython",
    "version": 3
   },
   "file_extension": ".py",
   "mimetype": "text/x-python",
   "name": "python",
   "nbconvert_exporter": "python",
   "pygments_lexer": "ipython3",
   "version": "3.12.3"
  }
 },
 "nbformat": 4,
 "nbformat_minor": 5
}
