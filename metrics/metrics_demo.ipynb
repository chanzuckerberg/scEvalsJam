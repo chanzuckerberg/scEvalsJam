{
 "cells": [
  {
   "cell_type": "markdown",
   "id": "e8c44d43-971a-4199-9753-fcd04311b7c1",
   "metadata": {},
   "source": [
    "Authors\n",
    "- Shawn Fan\n",
    "- Artur Dox\n",
    "- Ang Li\n",
    "- Holly Whitfield\n",
    "- Ramon Vinas Torne"
   ]
  },
  {
   "cell_type": "code",
   "execution_count": 5,
   "id": "626b429e-1ed0-4737-ab5a-170f9e30f465",
   "metadata": {},
   "outputs": [
    {
     "name": "stdout",
     "output_type": "stream",
     "text": [
      "The autoreload extension is already loaded. To reload it, use:\n",
      "  %reload_ext autoreload\n"
     ]
    }
   ],
   "source": [
    "%load_ext autoreload\n",
    "%autoreload 2"
   ]
  },
  {
   "cell_type": "code",
   "execution_count": 6,
   "id": "05502b8e-ba11-423b-a877-338b43e8e76b",
   "metadata": {},
   "outputs": [],
   "source": [
    "import anndata\n",
    "from metrics import *\n",
    "from de import *\n",
    "import numpy as np\n",
    "import pandas as pd\n",
    "import os\n",
    "from tqdm import tqdm\n",
    "from sklearn.model_selection import train_test_split"
   ]
  },
  {
   "cell_type": "code",
   "execution_count": 3,
   "id": "e1e9c6db-9f3b-4a6e-a635-e3bee916e4dd",
   "metadata": {
    "scrolled": true
   },
   "outputs": [],
   "source": [
    "data_file = '../datasets/data/1gene-norman.h5ad'\n",
    "adata = anndata.read_h5ad(data_file)\n",
    "adata_control = adata[adata.obs['perturbation_name'] == 'control']\n",
    "control_mean = np.array(adata_control.X.mean(axis=0))[0]\n",
    "\n",
    "# Select subset of perturbations for testing purposes\n",
    "adata_subset = adata[adata.obs['perturbation_name'].isin(['FOXA1', 'FOXA3'])]\n",
    "\n",
    "# Simulate split (ground truth cells, predicted cells)\n",
    "idxs_gt, idxs_pred = train_test_split(np.arange(len(adata_subset)), test_size=0.5)\n",
    "adata_gt = adata_subset[idxs_gt]\n",
    "adata_pred = adata_subset[idxs_pred]"
   ]
  },
  {
   "cell_type": "code",
   "execution_count": 4,
   "id": "db720edb-a5aa-4858-9000-06db8cdd2e15",
   "metadata": {},
   "outputs": [
    {
     "name": "stderr",
     "output_type": "stream",
     "text": [
      "/home/vinas/scEvalsJam/metrics/de.py:41: ImplicitModificationWarning: Trying to modify attribute `.obs` of view, initializing view as actual.\n",
      "  anndata_x.obs[\"group\"] = \"control\"\n",
      "/home/vinas/scEvalsJam/metrics/de.py:42: ImplicitModificationWarning: Trying to modify attribute `.obs` of view, initializing view as actual.\n",
      "  anndata_y.obs[\"group\"] = \"perturbation\"\n",
      "/home/vinas/scEvalsJam/metrics/de.py:42: ImplicitModificationWarning: Trying to modify attribute `.obs` of view, initializing view as actual.\n",
      "  anndata_y.obs[\"group\"] = \"perturbation\"\n"
     ]
    }
   ],
   "source": [
    "# Run DE analysis\n",
    "de_genes_gt = get_de_genes(adata_control, adata_gt,\n",
    "                           method = \"wilcoxon\",\n",
    "                           top_k = 100,\n",
    "                           groupby_key = 'perturbation_name')\n",
    "de_genes_pred = get_de_genes(adata_control, adata_pred,\n",
    "                             method = \"wilcoxon\",\n",
    "                             top_k = 100,\n",
    "                             groupby_key = 'perturbation_name')"
   ]
  },
  {
   "cell_type": "code",
   "execution_count": 8,
   "id": "870f51e2-4738-4886-b79b-00a49ec462a1",
   "metadata": {
    "scrolled": true
   },
   "outputs": [
    {
     "name": "stderr",
     "output_type": "stream",
     "text": [
      "  0%|                                                     | 0/2 [00:00<?, ?it/s]An NVIDIA GPU may be present on this machine, but a CUDA-enabled jaxlib is not installed. Falling back to cpu.\n",
      "/home/vinas/scEvalsJam/metrics/metrics.py:65: RuntimeWarning: invalid value encountered in scalar divide\n",
      "  return 1 - np.mean(intersection / union)\n",
      "/home/vinas/miniconda3/envs/scpert/lib/python3.12/site-packages/sklearn/metrics/cluster/_supervised.py:66: UserWarning: Clustering metrics expects discrete values but received continuous values for label, and continuous values for target\n",
      "  warnings.warn(msg, UserWarning)\n",
      " 50%|██████████████████████▌                      | 1/2 [00:13<00:13, 13.19s/it]/home/vinas/scEvalsJam/metrics/metrics.py:65: RuntimeWarning: invalid value encountered in scalar divide\n",
      "  return 1 - np.mean(intersection / union)\n",
      "/home/vinas/miniconda3/envs/scpert/lib/python3.12/site-packages/sklearn/metrics/cluster/_supervised.py:66: UserWarning: Clustering metrics expects discrete values but received continuous values for label, and continuous values for target\n",
      "  warnings.warn(msg, UserWarning)\n",
      "100%|█████████████████████████████████████████████| 2/2 [00:23<00:00, 11.50s/it]\n",
      "100%|███████████████████████████████████████████| 2/2 [00:00<00:00, 3485.09it/s]\n"
     ]
    }
   ],
   "source": [
    "### --- Calculate metrics per scenario\n",
    "unique_perturbations = adata_subset.obs['perturbation_name'].unique()\n",
    "\n",
    "## Calculate metrics\n",
    "results_list = [calc_metrics(adata_gt, adata_pred, adata_control,\n",
    "                             pert, metric_dict, \n",
    "                             de_genes_gt, de_genes_pred, \n",
    "                             de_subset = None) for pert in tqdm(unique_perturbations)]\n",
    "## Build dataframe\n",
    "results_df = pd.DataFrame(results_list,\n",
    "                          index=[i for i in unique_perturbations], \n",
    "                          columns=list(metric_dict.keys())+[\"Jaccard_de_up\", \"Jaccard_de_dn\"])\n",
    "\n",
    "## Remove redundant metrics\n",
    "redundant_column_mask = results_df.columns.str.contains('ec') & results_df.columns.str.contains('mse|mae|euclidean_distance|bhattacharyya_distance')\n",
    "results_df = results_df.loc[:, ~redundant_column_mask]"
   ]
  },
  {
   "cell_type": "code",
   "execution_count": 9,
   "id": "6cceaa60-623b-4a43-8f61-cf54c78e3bdf",
   "metadata": {},
   "outputs": [
    {
     "data": {
      "text/html": [
       "<div>\n",
       "<style scoped>\n",
       "    .dataframe tbody tr th:only-of-type {\n",
       "        vertical-align: middle;\n",
       "    }\n",
       "\n",
       "    .dataframe tbody tr th {\n",
       "        vertical-align: top;\n",
       "    }\n",
       "\n",
       "    .dataframe thead th {\n",
       "        text-align: right;\n",
       "    }\n",
       "</style>\n",
       "<table border=\"1\" class=\"dataframe\">\n",
       "  <thead>\n",
       "    <tr style=\"text-align: right;\">\n",
       "      <th></th>\n",
       "      <th>mse</th>\n",
       "      <th>mae</th>\n",
       "      <th>ks_test_distance</th>\n",
       "      <th>edistance</th>\n",
       "      <th>cosine_distance</th>\n",
       "      <th>pearson_distance</th>\n",
       "      <th>euclidean_distance</th>\n",
       "      <th>classifier_proba</th>\n",
       "      <th>kendalltau_distance</th>\n",
       "      <th>spearman_distance</th>\n",
       "      <th>wasserstein</th>\n",
       "      <th>sym_kldiv</th>\n",
       "      <th>bhattacharyya_distance</th>\n",
       "      <th>jaccard_index</th>\n",
       "      <th>F1_score</th>\n",
       "      <th>adjusted_rand_index</th>\n",
       "      <th>mutual_information</th>\n",
       "      <th>fowlkes_mallows_index</th>\n",
       "      <th>Jaccard_de_up</th>\n",
       "      <th>Jaccard_de_dn</th>\n",
       "    </tr>\n",
       "  </thead>\n",
       "  <tbody>\n",
       "    <tr>\n",
       "      <th>FOXA1</th>\n",
       "      <td>0.000324</td>\n",
       "      <td>0.010741</td>\n",
       "      <td>0.014995</td>\n",
       "      <td>12.313578</td>\n",
       "      <td>0.063507</td>\n",
       "      <td>0.078068</td>\n",
       "      <td>2.481288</td>\n",
       "      <td>0.426261</td>\n",
       "      <td>4.220650e+07</td>\n",
       "      <td>0.308070</td>\n",
       "      <td>2583.874889</td>\n",
       "      <td>9.008680e+11</td>\n",
       "      <td>0.000056</td>\n",
       "      <td>NaN</td>\n",
       "      <td>0.0</td>\n",
       "      <td>0.0</td>\n",
       "      <td>0.973725</td>\n",
       "      <td>0.193627</td>\n",
       "      <td>0.459854</td>\n",
       "      <td>0.492537</td>\n",
       "    </tr>\n",
       "    <tr>\n",
       "      <th>FOXA3</th>\n",
       "      <td>0.000526</td>\n",
       "      <td>0.013790</td>\n",
       "      <td>0.019283</td>\n",
       "      <td>20.005765</td>\n",
       "      <td>0.064992</td>\n",
       "      <td>0.077410</td>\n",
       "      <td>3.162733</td>\n",
       "      <td>0.395555</td>\n",
       "      <td>4.494570e+07</td>\n",
       "      <td>0.351932</td>\n",
       "      <td>2599.142979</td>\n",
       "      <td>1.557142e+12</td>\n",
       "      <td>0.000092</td>\n",
       "      <td>NaN</td>\n",
       "      <td>0.0</td>\n",
       "      <td>0.0</td>\n",
       "      <td>0.976233</td>\n",
       "      <td>0.185156</td>\n",
       "      <td>0.398601</td>\n",
       "      <td>0.481481</td>\n",
       "    </tr>\n",
       "  </tbody>\n",
       "</table>\n",
       "</div>"
      ],
      "text/plain": [
       "            mse       mae  ks_test_distance  edistance  cosine_distance  \\\n",
       "FOXA1  0.000324  0.010741          0.014995  12.313578         0.063507   \n",
       "FOXA3  0.000526  0.013790          0.019283  20.005765         0.064992   \n",
       "\n",
       "       pearson_distance  euclidean_distance  classifier_proba  \\\n",
       "FOXA1          0.078068            2.481288          0.426261   \n",
       "FOXA3          0.077410            3.162733          0.395555   \n",
       "\n",
       "       kendalltau_distance  spearman_distance  wasserstein     sym_kldiv  \\\n",
       "FOXA1         4.220650e+07           0.308070  2583.874889  9.008680e+11   \n",
       "FOXA3         4.494570e+07           0.351932  2599.142979  1.557142e+12   \n",
       "\n",
       "       bhattacharyya_distance  jaccard_index  F1_score  adjusted_rand_index  \\\n",
       "FOXA1                0.000056            NaN       0.0                  0.0   \n",
       "FOXA3                0.000092            NaN       0.0                  0.0   \n",
       "\n",
       "       mutual_information  fowlkes_mallows_index  Jaccard_de_up  Jaccard_de_dn  \n",
       "FOXA1            0.973725               0.193627       0.459854       0.492537  \n",
       "FOXA3            0.976233               0.185156       0.398601       0.481481  "
      ]
     },
     "execution_count": 9,
     "metadata": {},
     "output_type": "execute_result"
    }
   ],
   "source": [
    "results_df"
   ]
  },
  {
   "cell_type": "code",
   "execution_count": null,
   "id": "b6626c32-9f7e-4e2e-ba1c-997813874caa",
   "metadata": {},
   "outputs": [],
   "source": []
  }
 ],
 "metadata": {
  "kernelspec": {
   "display_name": "scpert",
   "language": "python",
   "name": "scpert"
  },
  "language_info": {
   "codemirror_mode": {
    "name": "ipython",
    "version": 3
   },
   "file_extension": ".py",
   "mimetype": "text/x-python",
   "name": "python",
   "nbconvert_exporter": "python",
   "pygments_lexer": "ipython3",
   "version": "3.12.3"
  }
 },
 "nbformat": 4,
 "nbformat_minor": 5
}
