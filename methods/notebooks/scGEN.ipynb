{
 "cells": [
  {
   "cell_type": "code",
   "execution_count": 0,
   "metadata": {
    "application/vnd.databricks.v1+cell": {
     "cellMetadata": {},
     "inputWidgets": {},
     "nuid": "66333cfe-5d1b-4fe8-9091-b805fbe3ad2c",
     "showTitle": false,
     "title": ""
    },
    "colab": {
     "base_uri": "https://localhost:8080/"
    },
    "executionInfo": {
     "elapsed": 99921,
     "status": "ok",
     "timestamp": 1718206707425,
     "user": {
      "displayName": "Kevin Ly",
      "userId": "11125524899631385332"
     },
     "user_tz": -60
    },
    "id": "bNDjiwHFxgZM",
    "outputId": "2d93e4fc-892a-4e81-e9d1-0d9aab232961"
   },
   "outputs": [],
   "source": [
    "!source scgen/bin/activate\n",
    "!pip install scvi-tools\n",
    "!pip install git+https://github.com/theislab/scgen.git"
   ]
  },
  {
   "cell_type": "code",
   "execution_count": 0,
   "metadata": {
    "application/vnd.databricks.v1+cell": {
     "cellMetadata": {},
     "inputWidgets": {},
     "nuid": "c577bc42-2182-4b75-b6ae-acc26277ce7f",
     "showTitle": false,
     "title": ""
    },
    "colab": {
     "base_uri": "https://localhost:8080/"
    },
    "executionInfo": {
     "elapsed": 17828,
     "status": "ok",
     "timestamp": 1718206725251,
     "user": {
      "displayName": "Kevin Ly",
      "userId": "11125524899631385332"
     },
     "user_tz": -60
    },
    "id": "YurmC6me_rbb",
    "outputId": "66460629-5513-46d0-a292-cde237ee1fca"
   },
   "outputs": [],
   "source": [
    "import sys\n",
    "#if branch is stable, will install via pypi, else will install from source\n",
    "branch = \"stable\"\n",
    "IN_COLAB = \"google.colab\" in sys.modules\n",
    "\n",
    "if IN_COLAB and branch == \"stable\":\n",
    "    !pip install --quiet scgen[tutorials]\n",
    "elif IN_COLAB and branch != \"stable\":\n",
    "    !pip install --quiet --upgrade jsonschema\n",
    "    !pip install --quiet git+https://github.com/theislab/scgen@$branch#egg=scgen[tutorials]"
   ]
  },
  {
   "cell_type": "markdown",
   "metadata": {
    "application/vnd.databricks.v1+cell": {
     "cellMetadata": {},
     "inputWidgets": {},
     "nuid": "9476526b-7dcf-495e-a8df-811c9aea7de2",
     "showTitle": false,
     "title": ""
    },
    "id": "yVXhjqfd_8Zd"
   },
   "source": [
    "### Loading Train Data"
   ]
  },
  {
   "cell_type": "code",
   "execution_count": 0,
   "metadata": {
    "application/vnd.databricks.v1+cell": {
     "cellMetadata": {},
     "inputWidgets": {},
     "nuid": "0b70f366-e187-4a8e-904e-93489566e222",
     "showTitle": false,
     "title": ""
    },
    "executionInfo": {
     "elapsed": 17220,
     "status": "ok",
     "timestamp": 1718206742459,
     "user": {
      "displayName": "Kevin Ly",
      "userId": "11125524899631385332"
     },
     "user_tz": -60
    },
    "id": "Ex4D6kY_AlfW"
   },
   "outputs": [],
   "source": [
    "import logging\n",
    "import scanpy as sc\n",
    "import sklearn\n",
    "import scgen\n",
    "import numpy as np"
   ]
  },
  {
   "cell_type": "code",
   "execution_count": 0,
   "metadata": {
    "application/vnd.databricks.v1+cell": {
     "cellMetadata": {},
     "inputWidgets": {},
     "nuid": "984e6936-990e-4320-b283-2416f08c552e",
     "showTitle": false,
     "title": ""
    },
    "executionInfo": {
     "elapsed": 17,
     "status": "ok",
     "timestamp": 1718206742460,
     "user": {
      "displayName": "Kevin Ly",
      "userId": "11125524899631385332"
     },
     "user_tz": -60
    },
    "id": "5yk3sMuWBlyk"
   },
   "outputs": [],
   "source": [
    "np.random.seed(42)"
   ]
  },
  {
   "cell_type": "code",
   "execution_count": 0,
   "metadata": {
    "application/vnd.databricks.v1+cell": {
     "cellMetadata": {},
     "inputWidgets": {},
     "nuid": "f5544e23-d099-4fe4-8cd3-09ba5343c75a",
     "showTitle": false,
     "title": ""
    },
    "colab": {
     "base_uri": "https://localhost:8080/",
     "height": 212,
     "referenced_widgets": [
      "544ff84e122946b4bf12a31c37a7592d",
      "9d1214a57ded4f49b260f7bc4f07bb31",
      "208af241e1c5408398179f2bd1f059a6",
      "3281265589df4d5cb93aa3bfa6c57792",
      "af642147bc7f455a8595d62e58ee6faa",
      "54de8362451d4c218d9f873e4b43c3c9",
      "8c4071a4a8774690bccaad008507af94",
      "a82db6d012894d4faee7a454bfb2e49a",
      "00e9806fb4de4396815996fd1d5fe9ec",
      "9efe4d8b4355459da3cf7311d1c53ee7",
      "eb085dfadb894b0caeacae9a1e2360a7"
     ]
    },
    "executionInfo": {
     "elapsed": 5638,
     "status": "ok",
     "timestamp": 1718206748082,
     "user": {
      "displayName": "Kevin Ly",
      "userId": "11125524899631385332"
     },
     "user_tz": -60
    },
    "id": "4nsdeOPvAA5n",
    "outputId": "b113422f-d3ec-42d8-8894-9992ed860327"
   },
   "outputs": [],
   "source": [
    "adata = sc.read(\"./tests/data/train_kang.h5ad\",\n",
    "                backup_url='https://drive.google.com/uc?id=1r87vhoLLq6PXAYdmyyd89zG90eJOFYLk')"
   ]
  },
  {
   "cell_type": "code",
   "execution_count": 0,
   "metadata": {
    "application/vnd.databricks.v1+cell": {
     "cellMetadata": {},
     "inputWidgets": {},
     "nuid": "5f8cdb78-4a12-46af-9f93-528d47c27062",
     "showTitle": false,
     "title": ""
    },
    "executionInfo": {
     "elapsed": 6,
     "status": "ok",
     "timestamp": 1718206748082,
     "user": {
      "displayName": "Kevin Ly",
      "userId": "11125524899631385332"
     },
     "user_tz": -60
    },
    "id": "9yKBrn-_AhPp"
   },
   "outputs": [],
   "source": [
    "#create test train split\n",
    "train_size = int(adata.shape[0]*0.8)\n",
    "test_size = adata.shape[0] - train_size\n"
   ]
  },
  {
   "cell_type": "code",
   "execution_count": 0,
   "metadata": {
    "application/vnd.databricks.v1+cell": {
     "cellMetadata": {},
     "inputWidgets": {},
     "nuid": "41cbc1ba-7831-4567-b0af-3b62a9f939ec",
     "showTitle": false,
     "title": ""
    },
    "executionInfo": {
     "elapsed": 6,
     "status": "ok",
     "timestamp": 1718206748082,
     "user": {
      "displayName": "Kevin Ly",
      "userId": "11125524899631385332"
     },
     "user_tz": -60
    },
    "id": "2kr-11t9AxFc"
   },
   "outputs": [],
   "source": [
    "train_idx = np.random.choice(adata.obs_names, size = train_size, replace = False)"
   ]
  },
  {
   "cell_type": "code",
   "execution_count": 0,
   "metadata": {
    "application/vnd.databricks.v1+cell": {
     "cellMetadata": {},
     "inputWidgets": {},
     "nuid": "1dca8780-fe10-4326-b2fe-41e9c853591d",
     "showTitle": false,
     "title": ""
    },
    "executionInfo": {
     "elapsed": 1267,
     "status": "ok",
     "timestamp": 1718211088912,
     "user": {
      "displayName": "Kevin Ly",
      "userId": "11125524899631385332"
     },
     "user_tz": -60
    },
    "id": "OiI0w0RaMnnv"
   },
   "outputs": [],
   "source": [
    "train_set = adata[adata.obs_names.isin(train_idx.tolist())].copy()\n",
    "test_set = adata[~adata.obs_names.isin(train_idx.tolist())].copy()"
   ]
  },
  {
   "cell_type": "code",
   "execution_count": 0,
   "metadata": {
    "application/vnd.databricks.v1+cell": {
     "cellMetadata": {},
     "inputWidgets": {},
     "nuid": "8d8c999d-8b83-43fd-b309-a0aef9f66b8f",
     "showTitle": false,
     "title": ""
    },
    "executionInfo": {
     "elapsed": 5,
     "status": "ok",
     "timestamp": 1718206748082,
     "user": {
      "displayName": "Kevin Ly",
      "userId": "11125524899631385332"
     },
     "user_tz": -60
    },
    "id": "QKODFnxRA6_z"
   },
   "outputs": [],
   "source": [
    "train_set = adata[adata.obs_names.isin(train_idx.tolist())].copy()\n",
    "test_set = adata[~adata.obs_names.isin(train_idx.tolist())].copy()"
   ]
  },
  {
   "cell_type": "code",
   "execution_count": 0,
   "metadata": {
    "application/vnd.databricks.v1+cell": {
     "cellMetadata": {},
     "inputWidgets": {},
     "nuid": "78c559a0-896a-445a-b063-e1de8bc6fdf6",
     "showTitle": false,
     "title": ""
    },
    "executionInfo": {
     "elapsed": 383,
     "status": "ok",
     "timestamp": 1718206748460,
     "user": {
      "displayName": "Kevin Ly",
      "userId": "11125524899631385332"
     },
     "user_tz": -60
    },
    "id": "tbYmeLrvCQcv"
   },
   "outputs": [],
   "source": [
    "scgen.SCGEN.setup_anndata(train_set, batch_key=\"condition\", labels_key=\"cell_type\")"
   ]
  },
  {
   "cell_type": "code",
   "execution_count": 0,
   "metadata": {
    "application/vnd.databricks.v1+cell": {
     "cellMetadata": {},
     "inputWidgets": {},
     "nuid": "50f2a9b7-b944-4bf0-86fb-04d6414e3ffc",
     "showTitle": false,
     "title": ""
    },
    "executionInfo": {
     "elapsed": 383,
     "status": "ok",
     "timestamp": 1718206748460,
     "user": {
      "displayName": "Kevin Ly",
      "userId": "11125524899631385332"
     },
     "user_tz": -60
    },
    "id": "DhQdIOD0Csl1"
   },
   "outputs": [],
   "source": [
    "model = scgen.SCGEN(train_set)\n",
    "model.save(\"../saved_models/model_perturbation_prediction.pt\", overwrite=True)"
   ]
  },
  {
   "cell_type": "code",
   "execution_count": 0,
   "metadata": {
    "application/vnd.databricks.v1+cell": {
     "cellMetadata": {},
     "inputWidgets": {},
     "nuid": "b3b93399-078e-462e-8e10-d455adf03c44",
     "showTitle": false,
     "title": ""
    },
    "colab": {
     "base_uri": "https://localhost:8080/"
    },
    "executionInfo": {
     "elapsed": 138791,
     "status": "ok",
     "timestamp": 1718206887249,
     "user": {
      "displayName": "Kevin Ly",
      "userId": "11125524899631385332"
     },
     "user_tz": -60
    },
    "id": "ax4heUWsC3e9",
    "outputId": "a8761422-d3b3-475b-8538-1782f28bed20"
   },
   "outputs": [],
   "source": [
    "model.train(\n",
    "    max_epochs=100,\n",
    "    batch_size=32,\n",
    "    early_stopping=True,\n",
    "    early_stopping_patience=25\n",
    ")"
   ]
  },
  {
   "cell_type": "markdown",
   "metadata": {
    "application/vnd.databricks.v1+cell": {
     "cellMetadata": {},
     "inputWidgets": {},
     "nuid": "226a2061-3ee9-48e4-8171-55402df07601",
     "showTitle": false,
     "title": ""
    },
    "id": "c85RZgHEH09I"
   },
   "source": [
    "## Prediction"
   ]
  },
  {
   "cell_type": "code",
   "execution_count": 0,
   "metadata": {
    "application/vnd.databricks.v1+cell": {
     "cellMetadata": {},
     "inputWidgets": {},
     "nuid": "292e4572-e8a4-452d-a5aa-31d59471393b",
     "showTitle": false,
     "title": ""
    },
    "executionInfo": {
     "elapsed": 1333,
     "status": "ok",
     "timestamp": 1718207191263,
     "user": {
      "displayName": "Kevin Ly",
      "userId": "11125524899631385332"
     },
     "user_tz": -60
    },
    "id": "Rthahve8IAEu"
   },
   "outputs": [],
   "source": [
    "pred, delta = model.predict(\n",
    "    ctrl_key='train',\n",
    "    stim_key='test',\n",
    "    celltype_to_predict='CD4T'\n",
    ")\n",
    "pred.obs['condition'] = 'pred'"
   ]
  },
  {
   "cell_type": "code",
   "execution_count": 0,
   "metadata": {
    "application/vnd.databricks.v1+cell": {
     "cellMetadata": {},
     "inputWidgets": {},
     "nuid": "56863221-e4f0-40cc-9ac7-f7571d212a68",
     "showTitle": false,
     "title": ""
    },
    "colab": {
     "base_uri": "https://localhost:8080/"
    },
    "executionInfo": {
     "elapsed": 4,
     "status": "ok",
     "timestamp": 1718207311969,
     "user": {
      "displayName": "Kevin Ly",
      "userId": "11125524899631385332"
     },
     "user_tz": -60
    },
    "id": "D2vwR6H9INyW",
    "outputId": "50fe79c8-be98-485b-b232-1e5153e67a67"
   },
   "outputs": [],
   "source": [
    "latent_adata.X"
   ]
  },
  {
   "cell_type": "code",
   "execution_count": 0,
   "metadata": {
    "application/vnd.databricks.v1+cell": {
     "cellMetadata": {},
     "inputWidgets": {},
     "nuid": "36d6777a-287d-484e-9b94-c114445484c2",
     "showTitle": false,
     "title": ""
    },
    "colab": {
     "base_uri": "https://localhost:8080/"
    },
    "executionInfo": {
     "elapsed": 589,
     "status": "ok",
     "timestamp": 1718207632641,
     "user": {
      "displayName": "Kevin Ly",
      "userId": "11125524899631385332"
     },
     "user_tz": -60
    },
    "id": "ENxWd_e8IXW3",
    "outputId": "344b39b6-3e4d-488e-88e4-ad0d904a7188"
   },
   "outputs": [],
   "source": [
    "adata.X.A"
   ]
  }
 ],
 "metadata": {
  "accelerator": "GPU",
  "application/vnd.databricks.v1+notebook": {
   "dashboards": [],
   "environmentMetadata": null,
   "language": "python",
   "notebookMetadata": {},
   "notebookName": "scGEN",
   "widgets": {}
  },
  "colab": {
   "authorship_tag": "ABX9TyPIaVJUKJqbTmON//mhVLOO",
   "gpuType": "T4",
   "provenance": []
  },
  "kernelspec": {
   "display_name": "Python 3",
   "name": "python3"
  },
  "language_info": {
   "name": "python"
  },
  "widgets": {
   "application/vnd.jupyter.widget-state+json": {
    "00e9806fb4de4396815996fd1d5fe9ec": {
     "model_module": "@jupyter-widgets/controls",
     "model_module_version": "1.5.0",
     "model_name": "ProgressStyleModel",
     "state": {
      "_model_module": "@jupyter-widgets/controls",
      "_model_module_version": "1.5.0",
      "_model_name": "ProgressStyleModel",
      "_view_count": null,
      "_view_module": "@jupyter-widgets/base",
      "_view_module_version": "1.2.0",
      "_view_name": "StyleView",
      "bar_color": null,
      "description_width": ""
     }
    },
    "208af241e1c5408398179f2bd1f059a6": {
     "model_module": "@jupyter-widgets/controls",
     "model_module_version": "1.5.0",
     "model_name": "FloatProgressModel",
     "state": {
      "_dom_classes": [],
      "_model_module": "@jupyter-widgets/controls",
      "_model_module_version": "1.5.0",
      "_model_name": "FloatProgressModel",
      "_view_count": null,
      "_view_module": "@jupyter-widgets/controls",
      "_view_module_version": "1.5.0",
      "_view_name": "ProgressView",
      "bar_style": "success",
      "description": "",
      "description_tooltip": null,
      "layout": "IPY_MODEL_a82db6d012894d4faee7a454bfb2e49a",
      "max": 23533440,
      "min": 0,
      "orientation": "horizontal",
      "style": "IPY_MODEL_00e9806fb4de4396815996fd1d5fe9ec",
      "value": 23533440
     }
    },
    "3281265589df4d5cb93aa3bfa6c57792": {
     "model_module": "@jupyter-widgets/controls",
     "model_module_version": "1.5.0",
     "model_name": "HTMLModel",
     "state": {
      "_dom_classes": [],
      "_model_module": "@jupyter-widgets/controls",
      "_model_module_version": "1.5.0",
      "_model_name": "HTMLModel",
      "_view_count": null,
      "_view_module": "@jupyter-widgets/controls",
      "_view_module_version": "1.5.0",
      "_view_name": "HTMLView",
      "description": "",
      "description_tooltip": null,
      "layout": "IPY_MODEL_9efe4d8b4355459da3cf7311d1c53ee7",
      "placeholder": "​",
      "style": "IPY_MODEL_eb085dfadb894b0caeacae9a1e2360a7",
      "value": " 22.4M/22.4M [00:00&lt;00:00, 120MB/s]"
     }
    },
    "544ff84e122946b4bf12a31c37a7592d": {
     "model_module": "@jupyter-widgets/controls",
     "model_module_version": "1.5.0",
     "model_name": "HBoxModel",
     "state": {
      "_dom_classes": [],
      "_model_module": "@jupyter-widgets/controls",
      "_model_module_version": "1.5.0",
      "_model_name": "HBoxModel",
      "_view_count": null,
      "_view_module": "@jupyter-widgets/controls",
      "_view_module_version": "1.5.0",
      "_view_name": "HBoxView",
      "box_style": "",
      "children": [
       "IPY_MODEL_9d1214a57ded4f49b260f7bc4f07bb31",
       "IPY_MODEL_208af241e1c5408398179f2bd1f059a6",
       "IPY_MODEL_3281265589df4d5cb93aa3bfa6c57792"
      ],
      "layout": "IPY_MODEL_af642147bc7f455a8595d62e58ee6faa"
     }
    },
    "54de8362451d4c218d9f873e4b43c3c9": {
     "model_module": "@jupyter-widgets/base",
     "model_module_version": "1.2.0",
     "model_name": "LayoutModel",
     "state": {
      "_model_module": "@jupyter-widgets/base",
      "_model_module_version": "1.2.0",
      "_model_name": "LayoutModel",
      "_view_count": null,
      "_view_module": "@jupyter-widgets/base",
      "_view_module_version": "1.2.0",
      "_view_name": "LayoutView",
      "align_content": null,
      "align_items": null,
      "align_self": null,
      "border": null,
      "bottom": null,
      "display": null,
      "flex": null,
      "flex_flow": null,
      "grid_area": null,
      "grid_auto_columns": null,
      "grid_auto_flow": null,
      "grid_auto_rows": null,
      "grid_column": null,
      "grid_gap": null,
      "grid_row": null,
      "grid_template_areas": null,
      "grid_template_columns": null,
      "grid_template_rows": null,
      "height": null,
      "justify_content": null,
      "justify_items": null,
      "left": null,
      "margin": null,
      "max_height": null,
      "max_width": null,
      "min_height": null,
      "min_width": null,
      "object_fit": null,
      "object_position": null,
      "order": null,
      "overflow": null,
      "overflow_x": null,
      "overflow_y": null,
      "padding": null,
      "right": null,
      "top": null,
      "visibility": null,
      "width": null
     }
    },
    "8c4071a4a8774690bccaad008507af94": {
     "model_module": "@jupyter-widgets/controls",
     "model_module_version": "1.5.0",
     "model_name": "DescriptionStyleModel",
     "state": {
      "_model_module": "@jupyter-widgets/controls",
      "_model_module_version": "1.5.0",
      "_model_name": "DescriptionStyleModel",
      "_view_count": null,
      "_view_module": "@jupyter-widgets/base",
      "_view_module_version": "1.2.0",
      "_view_name": "StyleView",
      "description_width": ""
     }
    },
    "9d1214a57ded4f49b260f7bc4f07bb31": {
     "model_module": "@jupyter-widgets/controls",
     "model_module_version": "1.5.0",
     "model_name": "HTMLModel",
     "state": {
      "_dom_classes": [],
      "_model_module": "@jupyter-widgets/controls",
      "_model_module_version": "1.5.0",
      "_model_name": "HTMLModel",
      "_view_count": null,
      "_view_module": "@jupyter-widgets/controls",
      "_view_module_version": "1.5.0",
      "_view_name": "HTMLView",
      "description": "",
      "description_tooltip": null,
      "layout": "IPY_MODEL_54de8362451d4c218d9f873e4b43c3c9",
      "placeholder": "​",
      "style": "IPY_MODEL_8c4071a4a8774690bccaad008507af94",
      "value": "100%"
     }
    },
    "9efe4d8b4355459da3cf7311d1c53ee7": {
     "model_module": "@jupyter-widgets/base",
     "model_module_version": "1.2.0",
     "model_name": "LayoutModel",
     "state": {
      "_model_module": "@jupyter-widgets/base",
      "_model_module_version": "1.2.0",
      "_model_name": "LayoutModel",
      "_view_count": null,
      "_view_module": "@jupyter-widgets/base",
      "_view_module_version": "1.2.0",
      "_view_name": "LayoutView",
      "align_content": null,
      "align_items": null,
      "align_self": null,
      "border": null,
      "bottom": null,
      "display": null,
      "flex": null,
      "flex_flow": null,
      "grid_area": null,
      "grid_auto_columns": null,
      "grid_auto_flow": null,
      "grid_auto_rows": null,
      "grid_column": null,
      "grid_gap": null,
      "grid_row": null,
      "grid_template_areas": null,
      "grid_template_columns": null,
      "grid_template_rows": null,
      "height": null,
      "justify_content": null,
      "justify_items": null,
      "left": null,
      "margin": null,
      "max_height": null,
      "max_width": null,
      "min_height": null,
      "min_width": null,
      "object_fit": null,
      "object_position": null,
      "order": null,
      "overflow": null,
      "overflow_x": null,
      "overflow_y": null,
      "padding": null,
      "right": null,
      "top": null,
      "visibility": null,
      "width": null
     }
    },
    "a82db6d012894d4faee7a454bfb2e49a": {
     "model_module": "@jupyter-widgets/base",
     "model_module_version": "1.2.0",
     "model_name": "LayoutModel",
     "state": {
      "_model_module": "@jupyter-widgets/base",
      "_model_module_version": "1.2.0",
      "_model_name": "LayoutModel",
      "_view_count": null,
      "_view_module": "@jupyter-widgets/base",
      "_view_module_version": "1.2.0",
      "_view_name": "LayoutView",
      "align_content": null,
      "align_items": null,
      "align_self": null,
      "border": null,
      "bottom": null,
      "display": null,
      "flex": null,
      "flex_flow": null,
      "grid_area": null,
      "grid_auto_columns": null,
      "grid_auto_flow": null,
      "grid_auto_rows": null,
      "grid_column": null,
      "grid_gap": null,
      "grid_row": null,
      "grid_template_areas": null,
      "grid_template_columns": null,
      "grid_template_rows": null,
      "height": null,
      "justify_content": null,
      "justify_items": null,
      "left": null,
      "margin": null,
      "max_height": null,
      "max_width": null,
      "min_height": null,
      "min_width": null,
      "object_fit": null,
      "object_position": null,
      "order": null,
      "overflow": null,
      "overflow_x": null,
      "overflow_y": null,
      "padding": null,
      "right": null,
      "top": null,
      "visibility": null,
      "width": null
     }
    },
    "af642147bc7f455a8595d62e58ee6faa": {
     "model_module": "@jupyter-widgets/base",
     "model_module_version": "1.2.0",
     "model_name": "LayoutModel",
     "state": {
      "_model_module": "@jupyter-widgets/base",
      "_model_module_version": "1.2.0",
      "_model_name": "LayoutModel",
      "_view_count": null,
      "_view_module": "@jupyter-widgets/base",
      "_view_module_version": "1.2.0",
      "_view_name": "LayoutView",
      "align_content": null,
      "align_items": null,
      "align_self": null,
      "border": null,
      "bottom": null,
      "display": null,
      "flex": null,
      "flex_flow": null,
      "grid_area": null,
      "grid_auto_columns": null,
      "grid_auto_flow": null,
      "grid_auto_rows": null,
      "grid_column": null,
      "grid_gap": null,
      "grid_row": null,
      "grid_template_areas": null,
      "grid_template_columns": null,
      "grid_template_rows": null,
      "height": null,
      "justify_content": null,
      "justify_items": null,
      "left": null,
      "margin": null,
      "max_height": null,
      "max_width": null,
      "min_height": null,
      "min_width": null,
      "object_fit": null,
      "object_position": null,
      "order": null,
      "overflow": null,
      "overflow_x": null,
      "overflow_y": null,
      "padding": null,
      "right": null,
      "top": null,
      "visibility": null,
      "width": null
     }
    },
    "eb085dfadb894b0caeacae9a1e2360a7": {
     "model_module": "@jupyter-widgets/controls",
     "model_module_version": "1.5.0",
     "model_name": "DescriptionStyleModel",
     "state": {
      "_model_module": "@jupyter-widgets/controls",
      "_model_module_version": "1.5.0",
      "_model_name": "DescriptionStyleModel",
      "_view_count": null,
      "_view_module": "@jupyter-widgets/base",
      "_view_module_version": "1.2.0",
      "_view_name": "StyleView",
      "description_width": ""
     }
    }
   }
  }
 },
 "nbformat": 4,
 "nbformat_minor": 0
}
