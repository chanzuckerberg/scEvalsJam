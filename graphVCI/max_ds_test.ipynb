{
 "cells": [
  {
   "cell_type": "code",
   "id": "initial_id",
   "metadata": {
    "collapsed": true,
    "ExecuteTime": {
     "end_time": "2024-06-13T16:16:12.943774Z",
     "start_time": "2024-06-13T16:16:11.103485Z"
    }
   },
   "source": [
    "import anndata as ad\n",
    "import torch \n",
    "import numpy as np"
   ],
   "outputs": [],
   "execution_count": 2
  },
  {
   "metadata": {
    "ExecuteTime": {
     "end_time": "2024-06-13T16:26:23.533061Z",
     "start_time": "2024-06-13T16:26:19.459373Z"
    }
   },
   "cell_type": "code",
   "source": [
    "# shape = (69570, 19018)\n",
    "base = ad.read_h5ad(\"../1gene-norman.h5ad\")\n",
    "base.X.shape\n",
    "\n",
    "# sampled_columns = np.random.choice(len(base.obs.columns), 3, replace=False)\n",
    "# print(sampled_columns)\n",
    "# base = base[:, sampled_columns]\n",
    "# base.var\n"
   ],
   "id": "8f5b322bf1d53a6f",
   "outputs": [
    {
     "data": {
      "text/plain": [
       "(69570, 19018)"
      ]
     },
     "execution_count": 7,
     "metadata": {},
     "output_type": "execute_result"
    }
   ],
   "execution_count": 7
  },
  {
   "metadata": {},
   "cell_type": "markdown",
   "source": "",
   "id": "e14ecb9cd5dc48fe"
  },
  {
   "metadata": {
    "ExecuteTime": {
     "end_time": "2024-06-13T15:27:44.526856Z",
     "start_time": "2024-06-13T15:27:44.196686Z"
    }
   },
   "cell_type": "code",
   "source": [
    "adata = ad.read_h5ad(\"./datasets/L008_prepped.h5ad\")\n",
    "adata.uns['fields']\n"
   ],
   "id": "676ab5ad8d4226b2",
   "outputs": [
    {
     "data": {
      "text/plain": [
       "{'control': 'control',\n",
       " 'covariates': array(['cell_type'], dtype=object),\n",
       " 'dose': 'dose',\n",
       " 'perturbation': 'target_gene',\n",
       " 'split': 'split'}"
      ]
     },
     "execution_count": 41,
     "metadata": {},
     "output_type": "execute_result"
    }
   ],
   "execution_count": 41
  },
  {
   "metadata": {
    "ExecuteTime": {
     "end_time": "2024-06-13T14:58:33.520493Z",
     "start_time": "2024-06-13T14:58:33.516661Z"
    }
   },
   "cell_type": "code",
   "source": [
    "grn = torch.load(\"./graphs/L008_grn_128.pth\")\n",
    "print(grn.x)"
   ],
   "id": "125e0f66c16914aa",
   "outputs": [
    {
     "name": "stdout",
     "output_type": "stream",
     "text": [
      "tensor([[ 1.8414e-03,  1.4067e-04, -3.1975e-03,  ..., -2.3051e-04,\n",
      "         -5.0577e-04,  2.1707e-03],\n",
      "        [ 2.3336e-04,  1.6187e-03, -3.3282e-03,  ..., -1.7175e-04,\n",
      "         -2.2398e-03, -1.0595e-03],\n",
      "        [-9.5302e-05,  3.5073e-03, -3.5602e-03,  ...,  1.9751e-04,\n",
      "          4.4050e-05, -2.5409e-03],\n",
      "        ...,\n",
      "        [-5.7198e-04,  2.7968e-03,  2.3216e-03,  ...,  1.8880e-03,\n",
      "          1.6176e-03,  3.2919e-03],\n",
      "        [ 2.3753e-03, -2.4716e-03,  1.5561e-03,  ...,  1.0119e-03,\n",
      "          1.7264e-03,  2.5486e-03],\n",
      "        [-3.6970e-04,  4.0051e-04, -3.4064e-03,  ...,  1.6208e-03,\n",
      "          1.6558e-03, -3.9020e-03]])\n"
     ]
    }
   ],
   "execution_count": 22
  },
  {
   "metadata": {
    "ExecuteTime": {
     "end_time": "2024-06-13T16:01:24.909977Z",
     "start_time": "2024-06-13T16:01:24.830949Z"
    }
   },
   "cell_type": "code",
   "source": [
    "import torch\n",
    "\n",
    "def generate_random_adjacency_matrix(n):\n",
    "    # Create a random upper triangular matrix\n",
    "    upper_tri = torch.triu(torch.randint(0, 2, (n, n)), diagonal=1)\n",
    "    # Mirror the upper triangular matrix to the lower triangular part\n",
    "    adjacency_matrix = upper_tri + upper_tri.T\n",
    "    return adjacency_matrix\n",
    "\n",
    "def adjacency_matrix_to_sparse(adjacency_matrix):\n",
    "    # Find the indices of the edges\n",
    "    edge_indices = adjacency_matrix.nonzero(as_tuple=False).t()\n",
    "    return edge_indices\n",
    "\n",
    "# Number of nodes\n",
    "n = 5\n",
    "adjacency_matrix = generate_random_adjacency_matrix(n)\n",
    "sparse_edges = adjacency_matrix_to_sparse(adjacency_matrix)\n",
    "\n",
    "print(\"Adjacency Matrix:\")\n",
    "print(adjacency_matrix)\n",
    "print(\"\\nSparse Edges:\")\n",
    "print(sparse_edges)"
   ],
   "id": "57d30ba7077d3cba",
   "outputs": [
    {
     "name": "stdout",
     "output_type": "stream",
     "text": [
      "Adjacency Matrix:\n",
      "tensor([[0, 0, 1, 0, 0],\n",
      "        [0, 0, 1, 0, 0],\n",
      "        [1, 1, 0, 1, 1],\n",
      "        [0, 0, 1, 0, 1],\n",
      "        [0, 0, 1, 1, 0]])\n",
      "\n",
      "Sparse Edges:\n",
      "tensor([[0, 1, 2, 2, 2, 2, 3, 3, 4, 4],\n",
      "        [2, 2, 0, 1, 3, 4, 2, 4, 2, 3]])\n"
     ]
    }
   ],
   "execution_count": 46
  }
 ],
 "metadata": {
  "kernelspec": {
   "display_name": "Python 3",
   "language": "python",
   "name": "python3"
  },
  "language_info": {
   "codemirror_mode": {
    "name": "ipython",
    "version": 2
   },
   "file_extension": ".py",
   "mimetype": "text/x-python",
   "name": "python",
   "nbconvert_exporter": "python",
   "pygments_lexer": "ipython2",
   "version": "2.7.6"
  }
 },
 "nbformat": 4,
 "nbformat_minor": 5
}
